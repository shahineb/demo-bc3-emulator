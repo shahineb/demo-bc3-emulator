{
 "cells": [
  {
   "cell_type": "code",
   "execution_count": null,
   "id": "0e36a662",
   "metadata": {},
   "outputs": [],
   "source": [
    "import utils"
   ]
  },
  {
   "cell_type": "code",
   "execution_count": 2,
   "id": "0dda7ed8",
   "metadata": {},
   "outputs": [],
   "source": [
    "emulator = utils.make_emulator(n_steps=2)"
   ]
  },
  {
   "cell_type": "code",
   "execution_count": null,
   "id": "2b9c7d1c",
   "metadata": {},
   "outputs": [],
   "source": [
    "ΔT = 1  # 1K anomaly wrt pre-industrial\n",
    "month = 2  # February\n",
    "n_sample = 2 # Number of samples to generate\n",
    "seed = 0\n",
    "samples = emulator(ΔT, month, n_sample, seed)"
   ]
  }
 ],
 "metadata": {
  "kernelspec": {
   "display_name": "sandbox",
   "language": "python",
   "name": "sandbox"
  },
  "language_info": {
   "codemirror_mode": {
    "name": "ipython",
    "version": 3
   },
   "file_extension": ".py",
   "mimetype": "text/x-python",
   "name": "python",
   "nbconvert_exporter": "python",
   "pygments_lexer": "ipython3",
   "version": "3.13.2"
  }
 },
 "nbformat": 4,
 "nbformat_minor": 5
}
